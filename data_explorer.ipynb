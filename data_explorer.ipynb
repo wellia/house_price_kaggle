{
  "nbformat": 4,
  "nbformat_minor": 0,
  "metadata": {
    "colab": {
      "name": "SIT742Task1.ipynb",
      "provenance": [],
      "collapsed_sections": [],
      "include_colab_link": true
    },
    "kernelspec": {
      "display_name": "Python 3",
      "language": "python",
      "name": "python3"
    },
    "language_info": {
      "codemirror_mode": {
        "name": "ipython",
        "version": 3
      },
      "file_extension": ".py",
      "mimetype": "text/x-python",
      "name": "python",
      "nbconvert_exporter": "python",
      "pygments_lexer": "ipython3",
      "version": "3.7.7"
    }
  },
  "cells": [
    {
      "cell_type": "markdown",
      "metadata": {
        "id": "view-in-github",
        "colab_type": "text"
      },
      "source": [
        "<a href=\"https://colab.research.google.com/github/wellia/kaggles/blob/main/data_explorer.ipynb\" target=\"_parent\"><img src=\"https://colab.research.google.com/assets/colab-badge.svg\" alt=\"Open In Colab\"/></a>"
      ]
    },
    {
      "cell_type": "markdown",
      "metadata": {
        "id": "EMX0qNbHot1x"
      },
      "source": [
        "# SIT742: Modern Data Science \n",
        "**(2020 Assessment Task 01: Exploration for Data Scientists Survey Data)**\n",
        "\n",
        "---\n",
        "- Materials in this module include resources collected from various open-source online repositories.\n",
        "- You are free to use, change and distribute this package.\n",
        "\n",
        "Prepared by **SIT742 Teaching Team**\n",
        "\n",
        "\n",
        "---\n",
        "\n",
        "<div class=\"alert alert-block alert-info\">\n",
        "Enter your information in the following cell. Please make sure you fill your Student ID and Name correctly.  \n",
        "</div>\n",
        "\n",
        "**Student Information:** Please fill your information below\n",
        "\n",
        "- Name:  Wellia Lioeng\n",
        "- Student ID:  220093302\n",
        "- Email:  wlioeng@deakin.edu.au\n",
        "- Lab Session and Tutor (for on campus students): Prc01 and LI, Gang\n",
        "\n",
        "---"
      ]
    },
    {
      "cell_type": "markdown",
      "metadata": {
        "id": "0RjxdljGsWrz"
      },
      "source": [
        ""
      ]
    },
    {
      "cell_type": "markdown",
      "metadata": {
        "id": "cHdQMSVzJyip"
      },
      "source": [
        "## Overview\n",
        "\n",
        "In 2017, [Kaggle](https://www.kaggle.com) (a data science community and competition platform) conducted a survey on a large range of users registered as the data scientist in their platform. The survey data are broadly covered the skill set of the data scientists, the demographic of the data scientists, the feedback of the platform and many other information. \n",
        "\n",
        "In this task, you will need to \n",
        "\n",
        "- **Part 1**: Given the following two data sets, you are required to finish some required analysis, with the exploreation data analytics skills as well as visuilization skills\n",
        "     - [MCQResponses.csv](https://github.com/tulip-lab/sit742/raw/master/Assessment/2020/data/MCQResponses.csv): Participants' answers to multiple choice questions. Each column contains the answers of one respondent to a specific question.     \n",
        "     - [ConversionRates.csv](https://github.com/tulip-lab/sit742/raw/master/Assessment/2020/data/ConversionRates.csv): Currency conversion rates to USD. \n",
        "- **Part 2**: Given the following data set, you are required to find out top keywords for hiring the data scientists. \n",
        "    - [JobPostings.csv](https://github.com/tulip-lab/sit742/raw/master/Assessment/2020/data/JobPostings.csv): Data scientists job advertising in US with job descriptions, from JobPikr.\n",
        "\n",
        "\n",
        "You will be required to complete the coding to answer the questions with a neat and clean format, and your commenting and adherence to code standards will also be considered when marking. Further information on Python standards, please visit https://www.python.org/dev/peps/pep-0008/ \n",
        "\n",
        "\n",
        "**Note**: You are not necessary to stick to the partial code provided, and you can write your own code to implement the required tasks. But you should provide sufficient comments.\n"
      ]
    },
    {
      "cell_type": "markdown",
      "metadata": {
        "id": "0d3FjO8fJyir"
      },
      "source": [
        "## Part 1 - What we could know about the Data Scientists? "
      ]
    },
    {
      "cell_type": "markdown",
      "metadata": {
        "id": "nQ5GzCrv5h9J"
      },
      "source": [
        ""
      ]
    },
    {
      "cell_type": "markdown",
      "metadata": {
        "_cell_guid": "06c9b38b-000e-4b8a-95f0-65a93bb332f2",
        "_uuid": "2bfa8ca86a226c9900a67a02236a072274bc0d18",
        "id": "NuDhBkqaot17"
      },
      "source": [
        "*1.0*. Libraries and data files\n",
        "<a id=\"Load data\"></a>\n",
        "***\n"
      ]
    },
    {
      "cell_type": "code",
      "metadata": {
        "id": "Tzx_NMcsJyiv",
        "colab": {
          "base_uri": "https://localhost:8080/",
          "height": 170
        },
        "outputId": "91a18380-d821-4031-b053-a5246ec9696e"
      },
      "source": [
        "!pip install wget"
      ],
      "execution_count": null,
      "outputs": [
        {
          "output_type": "stream",
          "text": [
            "Collecting wget\n",
            "  Downloading https://files.pythonhosted.org/packages/47/6a/62e288da7bcda82b935ff0c6cfe542970f04e29c756b0e147251b2fb251f/wget-3.2.zip\n",
            "Building wheels for collected packages: wget\n",
            "  Building wheel for wget (setup.py) ... \u001b[?25l\u001b[?25hdone\n",
            "  Created wheel for wget: filename=wget-3.2-cp36-none-any.whl size=9682 sha256=9be3e5f4b80b7d1aa148b63aeba1ec181fd7a189a1bd396c6f2c1a60c9102862\n",
            "  Stored in directory: /root/.cache/pip/wheels/40/15/30/7d8f7cea2902b4db79e3fea550d7d7b85ecb27ef992b618f3f\n",
            "Successfully built wget\n",
            "Installing collected packages: wget\n",
            "Successfully installed wget-3.2\n"
          ],
          "name": "stdout"
        }
      ]
    },
    {
      "cell_type": "code",
      "metadata": {
        "_cell_guid": "bf6d21b3-22d5-48e4-8a62-a50ef36bae42",
        "_kg_hide-input": true,
        "_kg_hide-output": false,
        "_uuid": "76567470049e7d7e878b76d72e81858f56bdbd2a",
        "id": "7AVjZqvmot2A",
        "scrolled": true,
        "colab": {
          "base_uri": "https://localhost:8080/",
          "height": 71
        },
        "outputId": "61e97df3-40b0-45fc-ebc5-4773ce7ff6b7"
      },
      "source": [
        "import numpy as np\n",
        "import matplotlib.pyplot as plt\n",
        "import pandas as pd\n",
        "from pandas import datetime\n",
        "import wget\n",
        "import seaborn as sns # you can use other packages such as matplotlib too\n",
        "sns.set(style=\"whitegrid\")"
      ],
      "execution_count": null,
      "outputs": [
        {
          "output_type": "stream",
          "text": [
            "/usr/local/lib/python3.6/dist-packages/statsmodels/tools/_testing.py:19: FutureWarning: pandas.util.testing is deprecated. Use the functions in the public API at pandas.testing instead.\n",
            "  import pandas.util.testing as tm\n"
          ],
          "name": "stderr"
        }
      ]
    },
    {
      "cell_type": "code",
      "metadata": {
        "_cell_guid": "bf6d21b3-22d5-48e4-8a62-a50ef36bae42",
        "_kg_hide-input": true,
        "_kg_hide-output": false,
        "_uuid": "76567470049e7d7e878b76d72e81858f56bdbd2a",
        "scrolled": true,
        "id": "_LTg8OF4sN3y"
      },
      "source": [
        "link_to_data = 'https://github.com/wellia/kaggles/train.csv'\n",
        "train_data = wget.download(link_to_data)\n",
        "\n",
        "link_to_data = 'https://github.com/tulip-lab/sit742/raw/master/Assessment/2020/data/ConversionRates.csv'\n",
        "DataSet = wget.download(link_to_data)\n",
        "\n",
        "link_to_data = 'https://github.com/tulip-lab/sit742/raw/master/Assessment/2020/data/JobPostings.csv'\n",
        "DataSet = wget.download(link_to_data)"
      ],
      "execution_count": null,
      "outputs": []
    },
    {
      "cell_type": "markdown",
      "metadata": {
        "id": "xt84oidr-jof"
      },
      "source": [
        " <div class=\"alert alert-block alert-info\">\n",
        "\n",
        "**Code**: \n",
        "    You are required to load MCQResponses.csv into dataframe df_demog, and check the data statistics and general infommation by printing its top 5 rows.\n",
        "</div>"
      ]
    },
    {
      "cell_type": "code",
      "metadata": {
        "id": "Xl5VV8v4ot2N",
        "colab": {
          "base_uri": "https://localhost:8080/",
          "height": 394
        },
        "outputId": "9c372a9c-6e3f-4298-bc94-a48e0e09a046"
      },
      "source": [
        "# Read data and display the top 5\n",
        "\n",
        "df_demog =  pd.read_csv(\"MCQResponses.csv\")\n",
        "df_demog.head()"
      ],
      "execution_count": null,
      "outputs": [
        {
          "output_type": "execute_result",
          "data": {
            "text/html": [
              "<div>\n",
              "<style scoped>\n",
              "    .dataframe tbody tr th:only-of-type {\n",
              "        vertical-align: middle;\n",
              "    }\n",
              "\n",
              "    .dataframe tbody tr th {\n",
              "        vertical-align: top;\n",
              "    }\n",
              "\n",
              "    .dataframe thead th {\n",
              "        text-align: right;\n",
              "    }\n",
              "</style>\n",
              "<table border=\"1\" class=\"dataframe\">\n",
              "  <thead>\n",
              "    <tr style=\"text-align: right;\">\n",
              "      <th></th>\n",
              "      <th>GenderSelect</th>\n",
              "      <th>Country</th>\n",
              "      <th>Age</th>\n",
              "      <th>EmploymentStatus</th>\n",
              "      <th>CodeWriter</th>\n",
              "      <th>CurrentJobTitleSelect</th>\n",
              "      <th>TitleFit</th>\n",
              "      <th>CurrentEmployerType</th>\n",
              "      <th>MLToolNextYearSelect</th>\n",
              "      <th>MLMethodNextYearSelect</th>\n",
              "      <th>LanguageRecommendationSelect</th>\n",
              "      <th>FormalEducation</th>\n",
              "      <th>MajorSelect</th>\n",
              "      <th>FirstTrainingSelect</th>\n",
              "      <th>CompensationAmount</th>\n",
              "      <th>CompensationCurrency</th>\n",
              "      <th>JobSatisfaction</th>\n",
              "    </tr>\n",
              "  </thead>\n",
              "  <tbody>\n",
              "    <tr>\n",
              "      <th>0</th>\n",
              "      <td>Male</td>\n",
              "      <td>United States</td>\n",
              "      <td>56</td>\n",
              "      <td>Independent contractor, freelancer, or self-em...</td>\n",
              "      <td>Yes</td>\n",
              "      <td>Operations Research Practitioner</td>\n",
              "      <td>Poorly</td>\n",
              "      <td>Self-employed</td>\n",
              "      <td>TensorFlow</td>\n",
              "      <td>Neural Nets</td>\n",
              "      <td>Python</td>\n",
              "      <td>Master's degree</td>\n",
              "      <td>Mathematics or statistics</td>\n",
              "      <td>University courses</td>\n",
              "      <td>250000.0</td>\n",
              "      <td>USD</td>\n",
              "      <td>10 - Highly Satisfied</td>\n",
              "    </tr>\n",
              "    <tr>\n",
              "      <th>1</th>\n",
              "      <td>Female</td>\n",
              "      <td>Australia</td>\n",
              "      <td>43</td>\n",
              "      <td>Employed full-time</td>\n",
              "      <td>Yes</td>\n",
              "      <td>Business Analyst</td>\n",
              "      <td>Fine</td>\n",
              "      <td>Employed by non-profit or NGO</td>\n",
              "      <td>Microsoft Excel Data Mining</td>\n",
              "      <td>Link Analysis</td>\n",
              "      <td>Python</td>\n",
              "      <td>Bachelor's degree</td>\n",
              "      <td>NaN</td>\n",
              "      <td>Work</td>\n",
              "      <td>80000.0</td>\n",
              "      <td>AUD</td>\n",
              "      <td>7</td>\n",
              "    </tr>\n",
              "    <tr>\n",
              "      <th>2</th>\n",
              "      <td>Male</td>\n",
              "      <td>Russia</td>\n",
              "      <td>33</td>\n",
              "      <td>Employed full-time</td>\n",
              "      <td>Yes</td>\n",
              "      <td>Software Developer/Software Engineer</td>\n",
              "      <td>Fine</td>\n",
              "      <td>Employed by a company that doesn't perform adv...</td>\n",
              "      <td>C/C++</td>\n",
              "      <td>Deep learning</td>\n",
              "      <td>Python</td>\n",
              "      <td>Bachelor's degree</td>\n",
              "      <td>Other</td>\n",
              "      <td>Self-taught</td>\n",
              "      <td>1200000.0</td>\n",
              "      <td>RUB</td>\n",
              "      <td>7</td>\n",
              "    </tr>\n",
              "    <tr>\n",
              "      <th>3</th>\n",
              "      <td>Male</td>\n",
              "      <td>India</td>\n",
              "      <td>27</td>\n",
              "      <td>Employed full-time</td>\n",
              "      <td>Yes</td>\n",
              "      <td>Data Scientist</td>\n",
              "      <td>Fine</td>\n",
              "      <td>Employed by professional services/consulting f...</td>\n",
              "      <td>Other</td>\n",
              "      <td>Deep learning</td>\n",
              "      <td>Python</td>\n",
              "      <td>Bachelor's degree</td>\n",
              "      <td>Electrical Engineering</td>\n",
              "      <td>University courses</td>\n",
              "      <td>95000.0</td>\n",
              "      <td>INR</td>\n",
              "      <td>7</td>\n",
              "    </tr>\n",
              "    <tr>\n",
              "      <th>4</th>\n",
              "      <td>Male</td>\n",
              "      <td>Taiwan</td>\n",
              "      <td>26</td>\n",
              "      <td>Employed full-time</td>\n",
              "      <td>Yes</td>\n",
              "      <td>Software Developer/Software Engineer</td>\n",
              "      <td>Fine</td>\n",
              "      <td>Employed by professional services/consulting firm</td>\n",
              "      <td>TensorFlow</td>\n",
              "      <td>Deep learning</td>\n",
              "      <td>Python</td>\n",
              "      <td>Master's degree</td>\n",
              "      <td>Computer Science</td>\n",
              "      <td>Online courses (coursera, udemy, edx, etc.)</td>\n",
              "      <td>1100000.0</td>\n",
              "      <td>TWD</td>\n",
              "      <td>5</td>\n",
              "    </tr>\n",
              "  </tbody>\n",
              "</table>\n",
              "</div>"
            ],
            "text/plain": [
              "  GenderSelect        Country  ...  CompensationCurrency        JobSatisfaction\n",
              "0         Male  United States  ...                   USD  10 - Highly Satisfied\n",
              "1       Female      Australia  ...                   AUD                      7\n",
              "2         Male         Russia  ...                   RUB                      7\n",
              "3         Male          India  ...                   INR                      7\n",
              "4         Male         Taiwan  ...                   TWD                      5\n",
              "\n",
              "[5 rows x 17 columns]"
            ]
          },
          "metadata": {
            "tags": []
          },
          "execution_count": 5
        }
      ]
    },
    {
      "cell_type": "markdown",
      "metadata": {
        "id": "7gclqLjREEe7"
      },
      "source": [
        "<div class=\"alert alert-block alert-info\">\n",
        "\n",
        "**Code**: \n",
        "    Check which columns have NAs (don't remove them now), and for each of those columns, display how many records with values (namely, no NULL values)\n",
        "\n",
        "\n",
        "<div class=\"alert alert-block alert-warning\">\n",
        "    \n",
        "**Report**: \n",
        "    **1.0.A** Please include your result for this coding task into your report, with proper section title '1.0.A'.\n",
        "</div>\n",
        "    </div>\n",
        "\n",
        "\n"
      ]
    },
    {
      "cell_type": "code",
      "metadata": {
        "id": "jk5oshZLot2U"
      },
      "source": [
        "# Columns with NAs\n",
        "null_columns = df_demog.columns[df_demog.isnull().any()]"
      ],
      "execution_count": null,
      "outputs": []
    },
    {
      "cell_type": "code",
      "metadata": {
        "id": "AXyiiOEGot2a",
        "colab": {
          "base_uri": "https://localhost:8080/",
          "height": 170
        },
        "outputId": "0be065ca-ad3e-4257-ec3e-a4499cc6913f"
      },
      "source": [
        "# Count records of columns that contain NAs\n",
        "df_demog[null_columns].notnull().sum()"
      ],
      "execution_count": null,
      "outputs": [
        {
          "output_type": "execute_result",
          "data": {
            "text/plain": [
              "TitleFit                        4251\n",
              "CurrentEmployerType             4275\n",
              "MLToolNextYearSelect            4206\n",
              "MLMethodNextYearSelect          4170\n",
              "LanguageRecommendationSelect    4228\n",
              "MajorSelect                     3952\n",
              "FirstTrainingSelect             4324\n",
              "JobSatisfaction                 4317\n",
              "dtype: int64"
            ]
          },
          "metadata": {
            "tags": []
          },
          "execution_count": 14
        }
      ]
    },
    {
      "cell_type": "markdown",
      "metadata": {
        "id": "MclqalahEVm-"
      },
      "source": [
        "<div class=\"alert alert-block alert-info\">\n",
        "\n",
        "**Code**: \n",
        "    Select the users whose current job title is 'Data Scientist', and store into variable df_demog_ds    \n",
        "\n",
        "<div class=\"alert alert-block alert-warning\">\n",
        "    \n",
        "**Report**: \n",
        "    **1.0.B** Please include your result of `how many Data Scientists?' into your report, with proper section title  '1.0.B'.\n",
        "</div>\n",
        "</div>\n",
        "\n",
        "\n"
      ]
    },
    {
      "cell_type": "code",
      "metadata": {
        "id": "sjdZZOc8ot2g",
        "colab": {
          "base_uri": "https://localhost:8080/",
          "height": 34
        },
        "outputId": "e4b086c5-6332-4c6b-f60b-7531b069d7ea"
      },
      "source": [
        "# Count number of Data Scientist\n",
        "df_demog_ds = df_demog.loc[df_demog['CurrentJobTitleSelect'] == 'Data Scientist']\n",
        "print('There are %i numbers of Data Scientist in the survey' % len(df_demog_ds))\n"
      ],
      "execution_count": null,
      "outputs": [
        {
          "output_type": "stream",
          "text": [
            "There are 1263 numbers of Data Scientist in the survey\n"
          ],
          "name": "stdout"
        }
      ]
    },
    {
      "cell_type": "markdown",
      "metadata": {
        "_cell_guid": "3e161447-2816-45ec-872f-3a20da79c042",
        "_uuid": "d6bdc03f0c63a08754efc13378661dc986d2bcb8",
        "id": "iuhutBLOot5O"
      },
      "source": [
        "### 1.1. Education\n",
        "<a id=\"education\"></a>\n",
        "***\n",
        "In data scientists job, education is important. Is it reasonable to ask data scientists to have a Master's or Doctoral degree? Let's find out. \n"
      ]
    },
    {
      "cell_type": "markdown",
      "metadata": {
        "id": "yHyeeZvDot5Q"
      },
      "source": [
        "<div class=\"alert alert-block alert-info\">\n",
        "\n",
        "**Code**: \n",
        "    Plot and display as text output the number and percentage of data scientist with each type of formal education. \n",
        "\n",
        "<div class=\"alert alert-block alert-warning\">\n",
        "    \n",
        "**Report**: \n",
        "    **1.1** Please include your running result of this coding task into your report, with proper section title  '1.1'.\n",
        "</div>\n",
        "</div>"
      ]
    },
    {
      "cell_type": "code",
      "metadata": {
        "id": "lRXfdfvgot5S",
        "colab": {
          "base_uri": "https://localhost:8080/",
          "height": 282
        },
        "outputId": "39fef529-e60c-4b02-e8ba-695cae203042"
      },
      "source": [
        "# Number and percentage of data scientist with each type of formal education\n",
        "total_data_scientist = len(df_demog_ds)\n",
        "number_of_master = len(df_demog_ds.loc[df_demog['FormalEducation']=='Master\\'s degree'])\n",
        "number_of_doctoral = len(df_demog_ds.loc[df_demog['FormalEducation']=='Doctoral degree'])\n",
        "\n",
        "print('There are %i data scientists with Master\\'s degree (%i %% from the total data scientist)' % (number_of_master, number_of_master/total_data_scientist*100))\n",
        "print('There are %i data scientists with Doctoral degree (%i %% from the total data scientist)' % (number_of_doctoral, number_of_doctoral/total_data_scientist*100))\n",
        "\n",
        "number_of_others = total_data_scientist - number_of_master - number_of_doctoral\n",
        "labels = 'Master', 'Doctoral', 'Others'\n",
        "sizes = [number_of_master, number_of_doctoral, number_of_others]\n",
        "\n",
        "fig1, ax1 = plt.subplots()\n",
        "ax1.pie(sizes, labels=labels, autopct='%1.1f%%',\n",
        "        shadow=True, startangle=90)\n",
        "ax1.axis('equal')  \n",
        "\n",
        "plt.show()"
      ],
      "execution_count": null,
      "outputs": [
        {
          "output_type": "stream",
          "text": [
            "There are 635 data scientists with Master's degree (50 % from the total data scientist)\n",
            "There are 326 data scientists with Doctoral degree (25 % from the total data scientist)\n"
          ],
          "name": "stdout"
        },
        {
          "output_type": "display_data",
          "data": {
            "image/png": "[encoded data removed]",
            "text/plain": [
              "<Figure size 432x288 with 1 Axes>"
            ]
          },
          "metadata": {
            "tags": []
          }
        }
      ]
    },
    {
      "cell_type": "markdown",
      "metadata": {
        "_cell_guid": "551f7dba-71d3-4f77-8852-fce4f789d644",
        "_uuid": "31449fb18bfea68bb723b010b78dcab6c8fe5439",
        "id": "K-yMEEFLot7P"
      },
      "source": [
        "1.2. Salary\n",
        "<a id=\"salary\"></a>\n",
        "\n",
        "Data science is considered a very well paying role, let's find out the salary information. Since all of the respondents did not come from one country, we can assume that they gave their salaries in their countries currency. We have filtered the data for you and provided exchange rates in a file called *ConversionRates.csv* which should already be imported. \n",
        "\n",
        "First of all, you need to merge the multiple choice data with the *ConversionRates.csv* by using the compensation currency and originCountry respectively. And then you will need to multiply the compensation amount with exchangeRateAUS to have the Australian dollors."
      ]
    },
    {
      "cell_type": "code",
      "metadata": {
        "id": "BZaQ7vykot7U"
      },
      "source": [
        "# Read file, merge exchangeRate, calculate salary in Australian dollars\n",
        "df_conversion_rates =  pd.read_csv(\"ConversionRates.csv\")\n",
        "\n",
        "df_salary = pd.merge(left=df_demog_ds[['CompensationAmount','CompensationCurrency']], right=df_conversion_rates[['originCountry','exchangeRate']], left_on='CompensationCurrency', right_on='originCountry')\n",
        "\n",
        "# convert to USD\n",
        "df_salary['salaryInUSD'] = round(df_salary ['CompensationAmount'] * df_salary ['exchangeRate'], 2)\n",
        "\n",
        "# convert to AUD\n",
        "rateUSD_AUD = df_conversion_rates[df_conversion_rates.originCountry == 'AUD'].exchangeRate\n",
        "rateUSD_AUD = rateUSD_AUD.iloc[0]\n",
        "df_salary['salaryInAUD'] = df_salary['salaryInUSD']/rateUSD_AUD\n"
      ],
      "execution_count": null,
      "outputs": []
    },
    {
      "cell_type": "markdown",
      "metadata": {
        "id": "6MYDXU6dot7T"
      },
      "source": [
        "<div class=\"alert alert-block alert-info\">\n",
        "\n",
        "**Code**: \n",
        "Use the codes for each country to merge the files so that you can convert the salary data to Australian Dollars (AUD). Print out the maximum and median salary in AUD. Hint: think about what data type you have.\n",
        "    \n",
        "<div class=\"alert alert-block alert-warning\">\n",
        "    \n",
        "**Report**: \n",
        "    **1.2.A** In your report's section '1.2.A', answer what is the maximum and the median salary in AUD (this is for all respondents). \n",
        "</div>\n",
        "</div>\n"
      ]
    },
    {
      "cell_type": "code",
      "metadata": {
        "id": "tyMNN-r3Jyjc",
        "colab": {
          "base_uri": "https://localhost:8080/",
          "height": 436
        },
        "outputId": "b83424fa-b653-4573-b7d6-1ab2f388baeb"
      },
      "source": [
        "# Calculate maximum and median salary all countries in AUD\n",
        " max_salary = df_salary[\"salaryInAUD\"].max()\n",
        " md_salary = df_salary['salaryInAUD'].median()\n",
        " print('Maximum salary in all countries is %.2f AUD and median salary in all countries is %.2f AUD' % (max_salary, md_salary))\n",
        " df_salary\n"
      ],
      "execution_count": null,
      "outputs": [
        {
          "output_type": "stream",
          "text": [
            "Maximum salary in all countries is 742711.17 AUD and median salary in all countries is 88828.58 AUD\n"
          ],
          "name": "stdout"
        },
        {
          "output_type": "execute_result",
          "data": {
            "text/html": [
              "<div>\n",
              "<style scoped>\n",
              "    .dataframe tbody tr th:only-of-type {\n",
              "        vertical-align: middle;\n",
              "    }\n",
              "\n",
              "    .dataframe tbody tr th {\n",
              "        vertical-align: top;\n",
              "    }\n",
              "\n",
              "    .dataframe thead th {\n",
              "        text-align: right;\n",
              "    }\n",
              "</style>\n",
              "<table border=\"1\" class=\"dataframe\">\n",
              "  <thead>\n",
              "    <tr style=\"text-align: right;\">\n",
              "      <th></th>\n",
              "      <th>CompensationAmount</th>\n",
              "      <th>CompensationCurrency</th>\n",
              "      <th>originCountry</th>\n",
              "      <th>exchangeRate</th>\n",
              "      <th>salaryInUSD</th>\n",
              "      <th>salaryInAUD</th>\n",
              "    </tr>\n",
              "  </thead>\n",
              "  <tbody>\n",
              "    <tr>\n",
              "      <th>0</th>\n",
              "      <td>95000.0</td>\n",
              "      <td>INR</td>\n",
              "      <td>INR</td>\n",
              "      <td>0.015620</td>\n",
              "      <td>1483.90</td>\n",
              "      <td>1849.534469</td>\n",
              "    </tr>\n",
              "    <tr>\n",
              "      <th>1</th>\n",
              "      <td>120000.0</td>\n",
              "      <td>INR</td>\n",
              "      <td>INR</td>\n",
              "      <td>0.015620</td>\n",
              "      <td>1874.40</td>\n",
              "      <td>2336.254066</td>\n",
              "    </tr>\n",
              "    <tr>\n",
              "      <th>2</th>\n",
              "      <td>1200000.0</td>\n",
              "      <td>INR</td>\n",
              "      <td>INR</td>\n",
              "      <td>0.015620</td>\n",
              "      <td>18744.00</td>\n",
              "      <td>23362.540664</td>\n",
              "    </tr>\n",
              "    <tr>\n",
              "      <th>3</th>\n",
              "      <td>1300000.0</td>\n",
              "      <td>INR</td>\n",
              "      <td>INR</td>\n",
              "      <td>0.015620</td>\n",
              "      <td>20306.00</td>\n",
              "      <td>25309.419052</td>\n",
              "    </tr>\n",
              "    <tr>\n",
              "      <th>4</th>\n",
              "      <td>1400000.0</td>\n",
              "      <td>INR</td>\n",
              "      <td>INR</td>\n",
              "      <td>0.015620</td>\n",
              "      <td>21868.00</td>\n",
              "      <td>27256.297441</td>\n",
              "    </tr>\n",
              "    <tr>\n",
              "      <th>...</th>\n",
              "      <td>...</td>\n",
              "      <td>...</td>\n",
              "      <td>...</td>\n",
              "      <td>...</td>\n",
              "      <td>...</td>\n",
              "      <td>...</td>\n",
              "    </tr>\n",
              "    <tr>\n",
              "      <th>1257</th>\n",
              "      <td>3000000.0</td>\n",
              "      <td>KES</td>\n",
              "      <td>KES</td>\n",
              "      <td>0.009726</td>\n",
              "      <td>29178.00</td>\n",
              "      <td>36367.488876</td>\n",
              "    </tr>\n",
              "    <tr>\n",
              "      <th>1258</th>\n",
              "      <td>60000000.0</td>\n",
              "      <td>MGA</td>\n",
              "      <td>MGA</td>\n",
              "      <td>0.000338</td>\n",
              "      <td>20280.00</td>\n",
              "      <td>25277.012626</td>\n",
              "    </tr>\n",
              "    <tr>\n",
              "      <th>1259</th>\n",
              "      <td>36.0</td>\n",
              "      <td>JOD</td>\n",
              "      <td>JOD</td>\n",
              "      <td>1.410620</td>\n",
              "      <td>50.78</td>\n",
              "      <td>63.292244</td>\n",
              "    </tr>\n",
              "    <tr>\n",
              "      <th>1260</th>\n",
              "      <td>160000.0</td>\n",
              "      <td>HRK</td>\n",
              "      <td>HRK</td>\n",
              "      <td>0.160606</td>\n",
              "      <td>25696.96</td>\n",
              "      <td>32028.717079</td>\n",
              "    </tr>\n",
              "    <tr>\n",
              "      <th>1261</th>\n",
              "      <td>144000.0</td>\n",
              "      <td>HRK</td>\n",
              "      <td>HRK</td>\n",
              "      <td>0.160606</td>\n",
              "      <td>23127.26</td>\n",
              "      <td>28825.840386</td>\n",
              "    </tr>\n",
              "  </tbody>\n",
              "</table>\n",
              "<p>1262 rows × 6 columns</p>\n",
              "</div>"
            ],
            "text/plain": [
              "      CompensationAmount CompensationCurrency  ... salaryInUSD   salaryInAUD\n",
              "0                95000.0                  INR  ...     1483.90   1849.534469\n",
              "1               120000.0                  INR  ...     1874.40   2336.254066\n",
              "2              1200000.0                  INR  ...    18744.00  23362.540664\n",
              "3              1300000.0                  INR  ...    20306.00  25309.419052\n",
              "4              1400000.0                  INR  ...    21868.00  27256.297441\n",
              "...                  ...                  ...  ...         ...           ...\n",
              "1257           3000000.0                  KES  ...    29178.00  36367.488876\n",
              "1258          60000000.0                  MGA  ...    20280.00  25277.012626\n",
              "1259                36.0                  JOD  ...       50.78     63.292244\n",
              "1260            160000.0                  HRK  ...    25696.96  32028.717079\n",
              "1261            144000.0                  HRK  ...    23127.26  28825.840386\n",
              "\n",
              "[1262 rows x 6 columns]"
            ]
          },
          "metadata": {
            "tags": []
          },
          "execution_count": 18
        }
      ]
    },
    {
      "cell_type": "code",
      "metadata": {
        "id": "nA9JygJ2ot7v"
      },
      "source": [
        "\n"
      ],
      "execution_count": null,
      "outputs": []
    },
    {
      "cell_type": "markdown",
      "metadata": {
        "id": "kAtIFQgxMcR9"
      },
      "source": [
        "<div class=\"alert alert-block alert-info\">\n",
        "\n",
        "**Code**: \n",
        "Plot a boxplot of the Australian respondents salary distribution. Print out the maximum and median salaries for Australian repsondnts.\n",
        "   \n",
        "<div class=\"alert alert-block alert-warning\">\n",
        "    \n",
        "**Report**: \n",
        "    **1.2.B** In your report's section '1.2.B', answer what is the maximum and median salary in AUD for Australian respondents, and also include your plotted boxplot of this coding task into your report. \n",
        "</div>\n",
        "</div>\n"
      ]
    },
    {
      "cell_type": "code",
      "metadata": {
        "id": "44a4HBqvMb_N",
        "colab": {
          "base_uri": "https://localhost:8080/",
          "height": 34
        },
        "outputId": "09fb68c2-09d2-4bc4-c1c0-aa786e7dedce"
      },
      "source": [
        "# Calculate maximum and median salary of Australian  respondents\n",
        "df_salary_au = df_salary.loc[df_salary['originCountry'] == 'AUD']\n",
        "max_salary_au = df_salary_au['CompensationAmount'].max()\n",
        "md_salary_au = df_salary_au['CompensationAmount'].median()\n",
        "min_salary_au = df_salary_au['CompensationAmount'].min()\n",
        "print('Maximum salary in Australia is %.2f AUD, minimum is %.2f AUD and median salary is %.2f AUD' % (max_salary_au, min_salary_au, md_salary_au))\n"
      ],
      "execution_count": null,
      "outputs": [
        {
          "output_type": "stream",
          "text": [
            "Maximum salary in Australia is 350000.00 AUD, minimum is 90.00 AUD and median salary is 143500.00 AUD\n"
          ],
          "name": "stdout"
        }
      ]
    },
    {
      "cell_type": "code",
      "metadata": {
        "id": "RZDQMRRfMbSl",
        "colab": {
          "base_uri": "https://localhost:8080/",
          "height": 284
        },
        "outputId": "97aaf02b-d2ce-4d07-df97-1093ad3bb225"
      },
      "source": [
        "# Boxplot of Australian respondents salary distribution\n",
        "plt.title(\"Salary of Australian respondents\")\n",
        "boxplot = df_salary_au.boxplot(column='salaryInAUD')\n",
        "\n",
        "\n"
      ],
      "execution_count": null,
      "outputs": [
        {
          "output_type": "display_data",
          "data": {
            "image/png": "[encoded data removed]",
            "text/plain": [
              "<Figure size 432x288 with 1 Axes>"
            ]
          },
          "metadata": {
            "tags": []
          }
        }
      ]
    },
    {
      "cell_type": "markdown",
      "metadata": {
        "id": "b5TQQt_1LSG2"
      },
      "source": [
        "<div class=\"alert alert-block alert-info\">\n",
        "\n",
        "**Code**: \n",
        "There are some outliers in the Australian salary plot. You are required to filter the salary of Australian respondents by removing any below 40,000 or above 250,000. \n",
        "\n",
        "    \n",
        "<div class=\"alert alert-block alert-warning\">\n",
        "    \n",
        "**Report**: \n",
        "    **1.2.C** In your report's section '1.2.C', answer what is the new maximum and median salary in AUD for Australian respondents after filtering, and also include your plotted boxplot of this coding task into your report. \n",
        "</div>\n",
        "</div>\n"
      ]
    },
    {
      "cell_type": "code",
      "metadata": {
        "id": "2OCbrDb9MUdb",
        "colab": {
          "base_uri": "https://localhost:8080/",
          "height": 34
        },
        "outputId": "72f861c5-272f-4c35-e96b-b79232dc3b0d"
      },
      "source": [
        "# Filterout outliers\n",
        "df_filtered_salary_au = df_salary_au[(df_salary_au.CompensationAmount >= 40000) & (df_salary_au.CompensationAmount <= 250000)]\n",
        "max_salary_au = df_filtered_salary_au['CompensationAmount'].max()\n",
        "md_salary_au = df_filtered_salary_au['CompensationAmount'].median()\n",
        "min_salary_au = df_filtered_salary_au['CompensationAmount'].min()\n",
        "print('After filtered, the maximum salary in Australia is %.2f AUD, minimum is %.2f AUD and the median salary is %.2f AUD' % (max_salary_au, min_salary_au, md_salary_au))\n"
      ],
      "execution_count": null,
      "outputs": [
        {
          "output_type": "stream",
          "text": [
            "After filtered, the maximum salary in Australia is 250000.00 AUD, minimum is 50000.00 AUD and the median salary is 143500.00 AUD\n"
          ],
          "name": "stdout"
        }
      ]
    },
    {
      "cell_type": "code",
      "metadata": {
        "id": "iDkjx7H1NhAj",
        "colab": {
          "base_uri": "https://localhost:8080/",
          "height": 284
        },
        "outputId": "b71d386d-fdaa-4276-c46a-7e83b8e30012"
      },
      "source": [
        "# Boxplot Filtered Australian salary\n",
        "plt.title(\"Filtered salary on Australia\")\n",
        "boxplot = df_filtered_salary_au.boxplot(column='salaryInAUD')\n"
      ],
      "execution_count": null,
      "outputs": [
        {
          "output_type": "display_data",
          "data": {
            "image/png": "[encoded data removed]",
            "text/plain": [
              "<Figure size 432x288 with 1 Axes>"
            ]
          },
          "metadata": {
            "tags": []
          }
        }
      ]
    },
    {
      "cell_type": "markdown",
      "metadata": {
        "_cell_guid": "06c9b38b-000e-4b8a-95f0-65a93bb332f2",
        "_uuid": "2bfa8ca86a226c9900a67a02236a072274bc0d18",
        "id": "WL_oOonnot2l"
      },
      "source": [
        "### 1.3. Exploring the data scientist Demographics\n",
        "\n",
        "*   List item\n",
        "*   List item\n",
        "\n",
        "\n",
        "<a id=\"demographics\"></a>\n",
        "***\n",
        "\n",
        "#### 1.3.1 Age\n",
        "<a id=\"age\"></a>\n",
        "You will need to build a boxplot to explore the age of all data scientists. \n",
        "Your plot must have a label for each axis, a tittle and also show the outliers."
      ]
    },
    {
      "cell_type": "code",
      "metadata": {
        "id": "3qi9JyJHot2o",
        "colab": {
          "base_uri": "https://localhost:8080/",
          "height": 501
        },
        "outputId": "9abf6482-6960-45ab-e371-a62fa26af3a4"
      },
      "source": [
        "plt.figure(figsize=(12,8))\n",
        "plt.title(\"Boxplot of Age\")\n",
        "boxplot = df_demog_ds.boxplot(column='Age')\n"
      ],
      "execution_count": null,
      "outputs": [
        {
          "output_type": "display_data",
          "data": {
            "image/png": "[encoded data removed]",
            "text/plain": [
              "<Figure size 864x576 with 1 Axes>"
            ]
          },
          "metadata": {
            "tags": []
          }
        }
      ]
    },
    {
      "cell_type": "markdown",
      "metadata": {
        "id": "sQEUpSEOot2u"
      },
      "source": [
        "<div class=\"alert alert-block alert-info\">\n",
        "\n",
        "**Code**: \n",
        "        <ol>\n",
        "        <li> Calculate the five number summary descriptive statistics for age as shown on the boxplot, as well as the mean. Please round your mean to integer.</li>\n",
        "        <li> Regardless of the errors that the data show, we are interested in working-age data scientists, how many aged between 24 and 60. </li>\n",
        "        <li> How many respondents were under 18?</li>\n",
        "    </ol>\n",
        "    \n",
        "\n",
        "    \n",
        "<div class=\"alert alert-block alert-warning\">\n",
        "    \n",
        "**Report**: \n",
        "    **1.3.A** In your report's section '1.3.A', answer \n",
        "        <ol>\n",
        "        <li> What is the mean age of all data scientists? </li>\n",
        "        <li> What is the median age of all data scientists? </li>\n",
        "        <li> how many data scientists aged between 24 and 60</li>\n",
        "        <li> how many respondents were under 18? </li>\n",
        "    </ol>\n",
        "</div>\n",
        "</div>\n",
        "\n",
        "\n",
        "\n",
        "\n",
        "\n"
      ]
    },
    {
      "cell_type": "code",
      "metadata": {
        "id": "NYdZjpklot2w",
        "colab": {
          "base_uri": "https://localhost:8080/",
          "height": 102
        },
        "outputId": "2c573379-d49e-4587-a041-e770829374fa"
      },
      "source": [
        "# Calculate the five number summary descriptive statistics for age\n",
        "quartiles = np.percentile(df_demog_ds[\"Age\"], [25, 50, 75])\n",
        "data_min = df_demog_ds[\"Age\"].min()\n",
        "data_max = df_demog_ds[\"Age\"].max()\n",
        "# print 5-number summary\n",
        "print('Min: %i' % data_min)\n",
        "print('Q1: %i' % quartiles[0])\n",
        "print('Median: %i' % quartiles[1])\n",
        "print('Q3: %i' % quartiles[2])\n",
        "print('Max: %i' % data_max)\n",
        "\n"
      ],
      "execution_count": null,
      "outputs": [
        {
          "output_type": "stream",
          "text": [
            "Min: 16\n",
            "Q1: 27\n",
            "Median: 32\n",
            "Q3: 37\n",
            "Max: 75\n"
          ],
          "name": "stdout"
        }
      ]
    },
    {
      "cell_type": "code",
      "metadata": {
        "id": "ngjxIviIot21",
        "colab": {
          "base_uri": "https://localhost:8080/",
          "height": 34
        },
        "outputId": "ca083540-951e-4d28-a406-727a3a684164"
      },
      "source": [
        "# Calculate mean\n",
        "data_mean = round(df_demog_ds[\"Age\"].mean())\n",
        "data_mean\n"
      ],
      "execution_count": null,
      "outputs": [
        {
          "output_type": "execute_result",
          "data": {
            "text/plain": [
              "34"
            ]
          },
          "metadata": {
            "tags": []
          },
          "execution_count": 27
        }
      ]
    },
    {
      "cell_type": "code",
      "metadata": {
        "id": "bW7mnijvJyj1"
      },
      "source": [
        "\n"
      ],
      "execution_count": null,
      "outputs": []
    },
    {
      "cell_type": "code",
      "metadata": {
        "id": "RxcGZ97Uot3M",
        "colab": {
          "base_uri": "https://localhost:8080/",
          "height": 34
        },
        "outputId": "985c7e7a-0307-4900-fc4c-864170c336b5"
      },
      "source": [
        "# Count data scientist aged between 24 and 60\n",
        "len(df_demog_ds[(df_demog_ds.Age >= 24) & (df_demog_ds.Age <= 60)])\n"
      ],
      "execution_count": null,
      "outputs": [
        {
          "output_type": "execute_result",
          "data": {
            "text/plain": [
              "1188"
            ]
          },
          "metadata": {
            "tags": []
          },
          "execution_count": 28
        }
      ]
    },
    {
      "cell_type": "code",
      "metadata": {
        "id": "3fehgZuEJyj8",
        "colab": {
          "base_uri": "https://localhost:8080/",
          "height": 34
        },
        "outputId": "365963fd-eb0a-4d6d-93f5-421c2d65c519"
      },
      "source": [
        "# Your Code: how many respondents under 18?\n",
        "len(df_demog_ds[df_demog_ds.Age < 18])\n"
      ],
      "execution_count": null,
      "outputs": [
        {
          "output_type": "execute_result",
          "data": {
            "text/plain": [
              "1"
            ]
          },
          "metadata": {
            "tags": []
          },
          "execution_count": 29
        }
      ]
    },
    {
      "cell_type": "markdown",
      "metadata": {
        "id": "c-al5HYdot3W"
      },
      "source": [
        "#### 1.3.2 Gender\n",
        "<a id=\"gender\"></a>\n",
        "We are interested in the gender of respondents. Nowadays, the gender equity is important for companies and organizations. \n"
      ]
    },
    {
      "cell_type": "markdown",
      "metadata": {
        "_cell_guid": "4b0c5cbc-a703-4b39-95bd-510f07ece6c0",
        "_uuid": "214cae932a19a586e341914443aa89e62009e6c4",
        "id": "aVdtFL5wot3Y"
      },
      "source": [
        "<div class=\"alert alert-block alert-info\">\n",
        "\n",
        "**Code**: \n",
        "Plot the gender distribution of the data scientist users using a bar chart. \n",
        "</div>\n"
      ]
    },
    {
      "cell_type": "code",
      "metadata": {
        "id": "OcKUWzqqot3Z",
        "colab": {
          "base_uri": "https://localhost:8080/",
          "height": 412
        },
        "outputId": "9ae0a055-0bc4-4107-cc50-60da15a8c180"
      },
      "source": [
        "df = pd.DataFrame({'count' : df_demog_ds.groupby([\"GenderSelect\"]).size()}).reset_index()\n",
        "df.plot.bar(x='GenderSelect', y='count')\n",
        "plt.title(\"Bar chart of Gender\")"
      ],
      "execution_count": null,
      "outputs": [
        {
          "output_type": "execute_result",
          "data": {
            "text/plain": [
              "Text(0.5, 1.0, 'Bar chart of Gender')"
            ]
          },
          "metadata": {
            "tags": []
          },
          "execution_count": 30
        },
        {
          "output_type": "display_data",
          "data": {
            "image/png": "[encoded data removed]",
            "text/plain": [
              "<Figure size 432x288 with 1 Axes>"
            ]
          },
          "metadata": {
            "tags": []
          }
        }
      ]
    },
    {
      "cell_type": "markdown",
      "metadata": {
        "id": "vvKuhs7NsN4t"
      },
      "source": [
        "Now let's see if any relationship between gender and age\n",
        "\n",
        "Create a box plot showing the age of all the data scientists according to gender (men, women and other identity)."
      ]
    },
    {
      "cell_type": "code",
      "metadata": {
        "id": "fLPvkJt2ot30",
        "colab": {
          "base_uri": "https://localhost:8080/",
          "height": 316
        },
        "outputId": "06496554-7c37-4da8-cc69-6c91dc44ae79"
      },
      "source": [
        "df_demog_ds.boxplot(column='Age', by='GenderSelect')\n",
        "plt.title(\"Boxplot of Age with GenderSelect\")\n",
        "plt.suptitle(\"\")\n"
      ],
      "execution_count": null,
      "outputs": [
        {
          "output_type": "execute_result",
          "data": {
            "text/plain": [
              "Text(0.5, 0.98, '')"
            ]
          },
          "metadata": {
            "tags": []
          },
          "execution_count": 31
        },
        {
          "output_type": "display_data",
          "data": {
            "image/png": "[encoded data removed]",
            "text/plain": [
              "<Figure size 432x288 with 1 Axes>"
            ]
          },
          "metadata": {
            "tags": []
          }
        }
      ]
    },
    {
      "cell_type": "markdown",
      "metadata": {
        "id": "MQb_Obrpot3e"
      },
      "source": [
        "<div class=\"alert alert-block alert-info\">\n",
        "\n",
        "**Code**: \n",
        "You are required to use the barchart to show the percentage of men, women and other identity.\n",
        "    \n",
        "    \n",
        "<div class=\"alert alert-block alert-warning\">\n",
        "    \n",
        "**Report**: \n",
        "    **1.3.B** In your report's section '1.3.B', include the bar chart generated from your code.\n",
        "</div>\n",
        "</div>"
      ]
    },
    {
      "cell_type": "code",
      "metadata": {
        "id": "H0tU0cJLot3h",
        "colab": {
          "base_uri": "https://localhost:8080/",
          "height": 535
        },
        "outputId": "3b41d3e3-b009-4e8b-c7a4-ffe817c14739"
      },
      "source": [
        "# Your code\n",
        "total = len(df_demog_ds)\n",
        "df = pd.DataFrame({'percentage' : round(df_demog_ds.groupby([\"GenderSelect\"]).size()/total*100)}).reset_index()\n",
        "plt.figure(figsize=(12,8))\n",
        "plt.title('Distribution of Gender')\n",
        "plt.xlabel('Gender Select')\n",
        "plt.ylabel('Percentage [%]')\n",
        "plt.bar(df['GenderSelect'], df['percentage'])\n",
        " "
      ],
      "execution_count": null,
      "outputs": [
        {
          "output_type": "execute_result",
          "data": {
            "text/plain": [
              "<BarContainer object of 3 artists>"
            ]
          },
          "metadata": {
            "tags": []
          },
          "execution_count": 32
        },
        {
          "output_type": "display_data",
          "data": {
            "image/png": "[encoded data removed]",
            "text/plain": [
              "<Figure size 864x576 with 1 Axes>"
            ]
          },
          "metadata": {
            "tags": []
          }
        }
      ]
    },
    {
      "cell_type": "markdown",
      "metadata": {
        "id": "ohxh7aPWot4G"
      },
      "source": [
        "#### 1.3.3 Country\n",
        "<a id=\"country\"></a>\n",
        "The data scientists are working all over the world. The United States is regarded the largest data science community. India, China and some other countries are also having a fast growing recently. Is this true? Let's find out."
      ]
    },
    {
      "cell_type": "markdown",
      "metadata": {
        "id": "gcW1HPZlot4J"
      },
      "source": [
        "<div class=\"alert alert-block alert-info\">\n",
        "\n",
        "**Code**: \n",
        "Find the top 5 countries of data scientists.\n",
        "    \n",
        "<div class=\"alert alert-block alert-warning\">\n",
        "    \n",
        "**Report**: \n",
        "    **1.3.C** In your report's section '1.3.C', answer what are those top 5 countries and their corresponding number of data scienists\n",
        "</div>\n",
        "</div>"
      ]
    },
    {
      "cell_type": "code",
      "metadata": {
        "id": "e14ly826ot4L",
        "colab": {
          "base_uri": "https://localhost:8080/",
          "height": 204
        },
        "outputId": "7339ba14-8178-4c89-a619-8946f51d32a2"
      },
      "source": [
        "# Your Code: create and fill value into df_country\n",
        "df_country = pd.DataFrame({'numberOfScientist' : df_demog_ds.groupby([\"Country\"]).size()}).nlargest(5, 'numberOfScientist').reset_index()\n",
        "df_country\n"
      ],
      "execution_count": null,
      "outputs": [
        {
          "output_type": "execute_result",
          "data": {
            "text/html": [
              "<div>\n",
              "<style scoped>\n",
              "    .dataframe tbody tr th:only-of-type {\n",
              "        vertical-align: middle;\n",
              "    }\n",
              "\n",
              "    .dataframe tbody tr th {\n",
              "        vertical-align: top;\n",
              "    }\n",
              "\n",
              "    .dataframe thead th {\n",
              "        text-align: right;\n",
              "    }\n",
              "</style>\n",
              "<table border=\"1\" class=\"dataframe\">\n",
              "  <thead>\n",
              "    <tr style=\"text-align: right;\">\n",
              "      <th></th>\n",
              "      <th>Country</th>\n",
              "      <th>numberOfScientist</th>\n",
              "    </tr>\n",
              "  </thead>\n",
              "  <tbody>\n",
              "    <tr>\n",
              "      <th>0</th>\n",
              "      <td>United States</td>\n",
              "      <td>414</td>\n",
              "    </tr>\n",
              "    <tr>\n",
              "      <th>1</th>\n",
              "      <td>India</td>\n",
              "      <td>111</td>\n",
              "    </tr>\n",
              "    <tr>\n",
              "      <th>2</th>\n",
              "      <td>France</td>\n",
              "      <td>60</td>\n",
              "    </tr>\n",
              "    <tr>\n",
              "      <th>3</th>\n",
              "      <td>United Kingdom</td>\n",
              "      <td>55</td>\n",
              "    </tr>\n",
              "    <tr>\n",
              "      <th>4</th>\n",
              "      <td>Germany</td>\n",
              "      <td>50</td>\n",
              "    </tr>\n",
              "  </tbody>\n",
              "</table>\n",
              "</div>"
            ],
            "text/plain": [
              "          Country  numberOfScientist\n",
              "0   United States                414\n",
              "1           India                111\n",
              "2          France                 60\n",
              "3  United Kingdom                 55\n",
              "4         Germany                 50"
            ]
          },
          "metadata": {
            "tags": []
          },
          "execution_count": 33
        }
      ]
    },
    {
      "cell_type": "code",
      "metadata": {
        "_cell_guid": "f3da614f-96e2-45d1-ba78-9d08a58fa136",
        "_kg_hide-input": true,
        "_uuid": "34afcf67184929a6de8358a13a961d0b9ad25b6c",
        "id": "4NfzLajkot4X",
        "colab": {
          "base_uri": "https://localhost:8080/",
          "height": 372
        },
        "outputId": "5289fa99-d1be-46e7-c2cf-2bd22d2f234f"
      },
      "source": [
        "# Bar plot Top 5 countries with largest data scientist\n",
        "plt.figure(figsize=(8,5))\n",
        "plt.title('Top 5 countries with largest data scientist')\n",
        "plt.xlabel('Countries')\n",
        "plt.ylabel('Number of scientist')\n",
        "plt.bar(df_country['Country'], df_country['numberOfScientist'])"
      ],
      "execution_count": null,
      "outputs": [
        {
          "output_type": "execute_result",
          "data": {
            "text/plain": [
              "<BarContainer object of 5 artists>"
            ]
          },
          "metadata": {
            "tags": []
          },
          "execution_count": 34
        },
        {
          "output_type": "display_data",
          "data": {
            "image/png": "[encoded data removed]",
            "text/plain": [
              "<Figure size 576x360 with 1 Axes>"
            ]
          },
          "metadata": {
            "tags": []
          }
        }
      ]
    },
    {
      "cell_type": "markdown",
      "metadata": {
        "id": "t8LLns9IJykS"
      },
      "source": [
        "<div class=\"alert alert-block alert-info\">\n",
        "\n",
        "**Code**: \n",
        "Generate the distribution of top 5 countries of data scientists, using percentage barchart. You can not mannually input the name of top 5 countries (your code should not contain any name of the top 5 countries), and you are required to use python subset functions or many other functions.\n",
        "    \n",
        "<div class=\"alert alert-block alert-warning\">\n",
        "    \n",
        "**Report**: \n",
        "    **1.3.D** In your report's section '1.3.D', including the percentage barchart of those top 5 countries. Here the percentage is calculated based on all countries, not for those top 5 countries. So the sum of top 5 countries' percentage should be less than 1.\n",
        "</div>\n",
        "</div>"
      ]
    },
    {
      "cell_type": "code",
      "metadata": {
        "id": "M1g1CA3_ot4l",
        "colab": {
          "base_uri": "https://localhost:8080/",
          "height": 372
        },
        "outputId": "78bebea7-4f18-4d85-a47a-f89498369461"
      },
      "source": [
        "#percentage\n",
        "plt.figure(figsize=(8,5))\n",
        "plt.title('Distribution of Top 5 country with data scientist count')\n",
        "plt.xlabel('Country')\n",
        "plt.ylabel('Percentage [%]')\n",
        "\n",
        "#Your Code: create and fill values into df_country_top5\n",
        "total_scientist = len(df_demog_ds)\n",
        "df_country[\"percentage\"] = round(df_country[\"numberOfScientist\"]/total_scientist*100)\n",
        "plt.bar(df_country['Country'], df_country['percentage'])"
      ],
      "execution_count": null,
      "outputs": [
        {
          "output_type": "execute_result",
          "data": {
            "text/plain": [
              "<BarContainer object of 5 artists>"
            ]
          },
          "metadata": {
            "tags": []
          },
          "execution_count": 35
        },
        {
          "output_type": "display_data",
          "data": {
            "image/png": "[encoded data removed]",
            "text/plain": [
              "<Figure size 576x360 with 1 Axes>"
            ]
          },
          "metadata": {
            "tags": []
          }
        }
      ]
    },
    {
      "cell_type": "markdown",
      "metadata": {
        "id": "rQNCS52Aot40"
      },
      "source": [
        "Now we have some understanding about the country, let's see if there is any relationship between country, age and gender.\n",
        "\n",
        "<div class=\"alert alert-block alert-info\">\n",
        "\n",
        "**Code**: \n",
        "You are required to output the mean and median age for each gender for the United States, India, Australia, Pakistan\n",
        "\n",
        "\n",
        "<div class=\"alert alert-block alert-warning\">\n",
        "    \n",
        "**Report**: \n",
        "    **1.3.E** In your report's section '1.3.E', including the results of above coding task.\n",
        "</div>\n",
        "</div>\n",
        "\n",
        "\n"
      ]
    },
    {
      "cell_type": "code",
      "metadata": {
        "id": "C8x3hi3xot45",
        "colab": {
          "base_uri": "https://localhost:8080/",
          "height": 153
        },
        "outputId": "3c2b1df1-3fef-4bc4-c12e-ddeebb7ad438"
      },
      "source": [
        "# Your Code\n",
        "countries = ['United States', 'India', 'Australia', 'Pakistan']\n",
        "genders = df_demog_ds.GenderSelect.unique()\n",
        "for i in range(0, 4):\n",
        "  for gender in genders:\n",
        "    ages = df_demog_ds[(df_demog_ds.Country == countries[i]) & (df_demog_ds.GenderSelect == gender)].Age\n",
        "    if len(ages) > 0:\n",
        "      print('Country: %s, Gender: %s, mean: %i, median: %i' % (countries[i], gender, ages.mean(), ages.median()))\n"
      ],
      "execution_count": null,
      "outputs": [
        {
          "output_type": "stream",
          "text": [
            "Country: United States, Gender: Male, mean: 35, median: 33\n",
            "Country: United States, Gender: Female, mean: 33, median: 31\n",
            "Country: United States, Gender: A different identity, mean: 31, median: 31\n",
            "Country: India, Gender: Male, mean: 30, median: 28\n",
            "Country: India, Gender: Female, mean: 29, median: 27\n",
            "Country: Australia, Gender: Male, mean: 35, median: 34\n",
            "Country: Australia, Gender: Female, mean: 32, median: 31\n",
            "Country: Pakistan, Gender: Male, mean: 32, median: 27\n"
          ],
          "name": "stdout"
        }
      ]
    },
    {
      "cell_type": "markdown",
      "metadata": {
        "id": "gYQNiE5Cot-I"
      },
      "source": [
        "## Part 2 - Data Science Job Advertising Data\n",
        "\n",
        "In this part, you are required to use the text processing skills to find out the insights in data science job adverising Data."
      ]
    },
    {
      "cell_type": "markdown",
      "metadata": {
        "id": "LQmiP5-_Nc3b"
      },
      "source": [
        "### 2.1. Load the data and Extract the high frequency words\n",
        "<a id=\"text\"></a>\n",
        "\n",
        "Firstly, you will need to load the [JobPostings.csv](https://github.com/tulip-lab/sit742/raw/master/Assessment/2020/data/JobPostings.csv) data and sub-set out of the job description from it."
      ]
    },
    {
      "cell_type": "code",
      "metadata": {
        "id": "zH8XAQ0xYGSc",
        "colab": {
          "base_uri": "https://localhost:8080/",
          "height": 102
        },
        "outputId": "5fb850de-0cd6-4b82-dfc1-a6e01326ae5f"
      },
      "source": [
        "import re\n",
        "import nltk\n",
        "from nltk.tokenize import RegexpTokenizer\n",
        "from nltk.probability import *\n",
        "from itertools import chain\n",
        "#from tqdm import tqdm\n",
        "import codecs\n",
        "from nltk.corpus import stopwords \n",
        "nltk.download('stopwords')\n",
        "nltk.download('punkt') # added this"
      ],
      "execution_count": null,
      "outputs": [
        {
          "output_type": "stream",
          "text": [
            "[nltk_data] Downloading package stopwords to /root/nltk_data...\n",
            "[nltk_data]   Package stopwords is already up-to-date!\n",
            "[nltk_data] Downloading package punkt to /root/nltk_data...\n",
            "[nltk_data]   Package punkt is already up-to-date!\n"
          ],
          "name": "stdout"
        },
        {
          "output_type": "execute_result",
          "data": {
            "text/plain": [
              "True"
            ]
          },
          "metadata": {
            "tags": []
          },
          "execution_count": 11
        }
      ]
    },
    {
      "cell_type": "code",
      "metadata": {
        "id": "p_BSc5WkYcf4"
      },
      "source": [
        "df_text = pd.read_csv('JobPostings.csv')"
      ],
      "execution_count": null,
      "outputs": []
    },
    {
      "cell_type": "markdown",
      "metadata": {
        "id": "xm1vdjSKJykj"
      },
      "source": [
        "<div class=\"alert alert-block alert-info\">\n",
        "\n",
        "**Code**: \n",
        "You are required to extract the token and append them into the list 'token'.\n",
        "\n",
        "<div class=\"alert alert-block alert-warning\">\n",
        "    \n",
        "**Report**: \n",
        "    **2.1.A** In your report's section '2.1.A', including your code of this task. You can copy and paster your completed code in the following cell\n",
        "</div>\n",
        "</div>\n"
      ]
    },
    {
      "cell_type": "code",
      "metadata": {
        "id": "Rz03Rd-GYYMw",
        "colab": {
          "base_uri": "https://localhost:8080/",
          "height": 54
        },
        "outputId": "642f7018-bc30-4415-eb18-7c00a2f69746"
      },
      "source": [
        "lower = []\n",
        "for item in df_text['job_description']:\n",
        "    lower.append(item.lower())           # lowercase description\n",
        "sentence = ' '.join(lower)\n",
        "\n",
        "# Your code: write your code here to define your tokenize, and add to tokens \n",
        "tokens = nltk.word_tokenize(sentence)\n",
        "print(tokens[:20])\n",
        "\n"
      ],
      "execution_count": null,
      "outputs": [
        {
          "output_type": "stream",
          "text": [
            "['read', 'what', 'people', 'are', 'saying', 'about', 'working', 'here', '.', 'we', 'are', 'farmers', '!', 'join', 'a', 'team', 'of', 'diverse', 'professionals', 'at']\n"
          ],
          "name": "stdout"
        }
      ]
    },
    {
      "cell_type": "markdown",
      "metadata": {
        "id": "VD4z8w8xOKDJ"
      },
      "source": [
        "Secondly, \n",
        "\n",
        "<div class=\"alert alert-block alert-info\">\n",
        "\n",
        "**Code**: \n",
        "You are required to find out the words freqency which is more than 6000 in the job descriptions. (Please use stopwords at beginning)\n",
        "\n",
        "\n",
        "<div class=\"alert alert-block alert-warning\">\n",
        "    \n",
        "**Report**: \n",
        "    **2.1.B** In your report's section '2.1.B', list those words with frequency > 6000.\n",
        "</div>\n",
        "</div>\n",
        "\n",
        "\n"
      ]
    },
    {
      "cell_type": "code",
      "metadata": {
        "id": "c-Pag_N7Zew-",
        "colab": {
          "base_uri": "https://localhost:8080/",
          "height": 1000
        },
        "outputId": "0b7501df-35c2-4e99-bae0-b8b177e40a3c"
      },
      "source": [
        "stop_words = set(stopwords.words('english')) \n",
        "\n",
        "freq6000 = []\n",
        "\n",
        "# Your Code\n",
        "# find top common words with document frequencies > 6000\n",
        "# you may use function FreqDist() and sort()\n",
        "\n",
        "# remove all tokens that are not alphabetic\n",
        "words = [word for word in tokens if word.isalpha()]\n",
        "\n",
        "# filter out stop words\n",
        "words = [w for w in words if not w in stop_words]\n",
        "\n",
        "fdist = FreqDist(words) \n",
        "freq6000 = list(filter(lambda x: x[1]>=6000,fdist.items()))\n",
        "\n",
        "print ('There are %i' %len(freq6000))\n",
        "\n",
        "freq6000\n"
      ],
      "execution_count": null,
      "outputs": [
        {
          "output_type": "stream",
          "text": [
            "There are 92\n"
          ],
          "name": "stdout"
        },
        {
          "output_type": "execute_result",
          "data": {
            "text/plain": [
              "[('people', 7445),\n",
              " ('working', 13281),\n",
              " ('team', 20747),\n",
              " ('skills', 19293),\n",
              " ('job', 12117),\n",
              " ('apply', 6081),\n",
              " ('knowledge', 12815),\n",
              " ('opportunities', 6034),\n",
              " ('world', 6602),\n",
              " ('data', 123388),\n",
              " ('scientist', 15969),\n",
              " ('science', 26505),\n",
              " ('provide', 7118),\n",
              " ('statistical', 14218),\n",
              " ('analysis', 20384),\n",
              " ('modeling', 10815),\n",
              " ('services', 7739),\n",
              " ('business', 33080),\n",
              " ('work', 27815),\n",
              " ('solutions', 14935),\n",
              " ('design', 8623),\n",
              " ('models', 16264),\n",
              " ('results', 6261),\n",
              " ('teams', 7824),\n",
              " ('etc', 7464),\n",
              " ('using', 12530),\n",
              " ('quantitative', 6382),\n",
              " ('build', 8115),\n",
              " ('tools', 12444),\n",
              " ('advanced', 10541),\n",
              " ('including', 10827),\n",
              " ('techniques', 11450),\n",
              " ('predictive', 7957),\n",
              " ('environment', 8475),\n",
              " ('requirements', 7904),\n",
              " ('degree', 11294),\n",
              " ('field', 7402),\n",
              " ('preferred', 7855),\n",
              " ('experience', 57883),\n",
              " ('analytics', 21438),\n",
              " ('role', 7257),\n",
              " ('required', 10868),\n",
              " ('r', 8541),\n",
              " ('python', 11356),\n",
              " ('sql', 7794),\n",
              " ('machine', 20033),\n",
              " ('learning', 26257),\n",
              " ('methods', 7037),\n",
              " ('management', 9822),\n",
              " ('opportunity', 8711),\n",
              " ('strong', 11143),\n",
              " ('software', 8145),\n",
              " ('years', 16162),\n",
              " ('algorithms', 8913),\n",
              " ('big', 6557),\n",
              " ('ability', 15215),\n",
              " ('technical', 10477),\n",
              " ('must', 6083),\n",
              " ('related', 9213),\n",
              " ('programming', 6493),\n",
              " ('large', 7527),\n",
              " ('systems', 8336),\n",
              " ('technology', 8388),\n",
              " ('us', 6862),\n",
              " ('information', 11724),\n",
              " ('develop', 11403),\n",
              " ('insights', 8825),\n",
              " ('development', 12581),\n",
              " ('across', 7175),\n",
              " ('complex', 8912),\n",
              " ('problems', 9102),\n",
              " ('responsibilities', 6816),\n",
              " ('use', 7516),\n",
              " ('customer', 6865),\n",
              " ('analytical', 8752),\n",
              " ('products', 6806),\n",
              " ('computer', 9403),\n",
              " ('statistics', 9897),\n",
              " ('engineering', 9959),\n",
              " ('status', 8249),\n",
              " ('employment', 6598),\n",
              " ('company', 9188),\n",
              " ('help', 7676),\n",
              " ('product', 7955),\n",
              " ('position', 9278),\n",
              " ('time', 6523),\n",
              " ('new', 12609),\n",
              " ('research', 12011),\n",
              " ('support', 9339),\n",
              " ('understanding', 6691),\n",
              " ('qualifications', 8104),\n",
              " ('projects', 7636)]"
            ]
          },
          "metadata": {
            "tags": []
          },
          "execution_count": 14
        }
      ]
    },
    {
      "cell_type": "code",
      "metadata": {
        "id": "S7JzfU6AaSQi"
      },
      "source": [
        "freq6000"
      ],
      "execution_count": null,
      "outputs": []
    },
    {
      "cell_type": "markdown",
      "metadata": {
        "id": "EK9-BCbDJyky"
      },
      "source": [
        "Then,\n",
        "\n",
        "<div class=\"alert alert-block alert-info\">\n",
        "\n",
        "**Code**: \n",
        "You are required to sort and display the top 10 high frequency words in 'freq6000'\n",
        "\n",
        "<div class=\"alert alert-block alert-warning\">\n",
        "    \n",
        "**Report**: \n",
        "    **2.1.C** In your report's section '2.1.C', list those top 10 words\n",
        "</div>\n",
        "</div>\n",
        "\n",
        "\n",
        "\n",
        "\n"
      ]
    },
    {
      "cell_type": "code",
      "metadata": {
        "id": "doWvhqRmJykz",
        "colab": {
          "base_uri": "https://localhost:8080/",
          "height": 187
        },
        "outputId": "816c8776-499c-4b7a-9944-87bb614d6d21"
      },
      "source": [
        "# Your Code to sort and display the top 10 high fequency words in 'freq6000'\n",
        "freq6000.sort(key = lambda x: x[1], reverse=True) \n",
        "freq6000[:10]\n"
      ],
      "execution_count": null,
      "outputs": [
        {
          "output_type": "execute_result",
          "data": {
            "text/plain": [
              "[('data', 123388),\n",
              " ('experience', 57883),\n",
              " ('business', 33080),\n",
              " ('work', 27815),\n",
              " ('science', 26505),\n",
              " ('learning', 26257),\n",
              " ('analytics', 21438),\n",
              " ('team', 20747),\n",
              " ('analysis', 20384),\n",
              " ('machine', 20033)]"
            ]
          },
          "metadata": {
            "tags": []
          },
          "execution_count": 21
        }
      ]
    },
    {
      "cell_type": "markdown",
      "metadata": {
        "id": "i11tXbwHsN5P"
      },
      "source": [
        "Finally,\n",
        "\n",
        "<div class=\"alert alert-block alert-info\">\n",
        "\n",
        "**Code**: \n",
        "You are required to carry out one more analytics on this data set, and implement it below.\n",
        "\n",
        "<div class=\"alert alert-block alert-warning\">\n",
        "    \n",
        "**Report**: \n",
        "    **2.1.D** In your report's section '2.1.D', describe your self-defined text analysis task, and the discovery from your analysis.\n",
        "</div>\n",
        "</div>\n",
        "\n",
        "\n",
        "\n",
        "\n",
        "\n"
      ]
    },
    {
      "cell_type": "code",
      "metadata": {
        "id": "0_OPDUDgsN5P",
        "colab": {
          "base_uri": "https://localhost:8080/",
          "height": 102
        },
        "outputId": "aae503f5-01d6-46f5-cf65-35ae55da94bf"
      },
      "source": [
        "# Find dates\n",
        "date_matches = re.findall(\"\\d+/\\d+/\\d+\", sentence) \n",
        "date_dict = {}\n",
        "# Group the dates\n",
        "for item in date_matches: \n",
        "  date_dict[item] = date_matches.count(item) \n",
        "sorted_date_count = sorted(date_dict.items(), key=lambda kv: kv[1], reverse=True) # order the result\n",
        "sorted_date_count[:5] # get the first 5\n",
        "    "
      ],
      "execution_count": null,
      "outputs": [
        {
          "output_type": "execute_result",
          "data": {
            "text/plain": [
              "[('08/30/2019', 4),\n",
              " ('01/02/2019', 3),\n",
              " ('1/1/1', 3),\n",
              " ('05/20/2019', 3),\n",
              " ('06/13/19', 3)]"
            ]
          },
          "metadata": {
            "tags": []
          },
          "execution_count": 15
        }
      ]
    }
  ]
}